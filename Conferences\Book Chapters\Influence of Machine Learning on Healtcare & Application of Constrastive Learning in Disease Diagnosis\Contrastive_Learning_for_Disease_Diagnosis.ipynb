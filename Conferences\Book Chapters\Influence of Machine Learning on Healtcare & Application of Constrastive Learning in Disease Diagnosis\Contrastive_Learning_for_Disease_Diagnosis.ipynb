{
  "nbformat": 4,
  "nbformat_minor": 0,
  "metadata": {
    "colab": {
      "name": "Contrastive Learning for Disease Diagnosis.ipynb",
      "provenance": [],
      "collapsed_sections": [],
      "mount_file_id": "1BCU-9w6eE03z6xP7J7EzKPv08A_EYbNI",
      "authorship_tag": "ABX9TyNnR8TAoartevQ+hE4GP3i+"
    },
    "kernelspec": {
      "name": "python3",
      "display_name": "Python 3"
    },
    "language_info": {
      "name": "python"
    },
    "accelerator": "GPU",
    "gpuClass": "standard"
  },
  "cells": [
    {
      "cell_type": "code",
      "source": [
        "# importing the basic packages for data analysis\n",
        "import pandas as pd\n",
        "import numpy as np\n",
        "import sklearn\n",
        "import seaborn as sns\n",
        "import matplotlib.pyplot as plt\n",
        "import math\n",
        "import os\n",
        "import functools\n",
        "import random\n",
        "\n",
        "import tensorflow as tf\n",
        "from keras.preprocessing import image\n",
        "from tensorflow.keras.preprocessing.image import ImageDataGenerator\n",
        "from tensorflow.keras.models import load_model\n",
        "\n",
        "from scipy.spatial import distance"
      ],
      "metadata": {
        "id": "qF0D8U1J8IW4"
      },
      "execution_count": null,
      "outputs": []
    },
    {
      "cell_type": "code",
      "source": [
        "folder = '/content/drive/MyDrive/influence of machine learning in healthcare/brain_tumor_dataset/'\n",
        "\n",
        "X = [str(folder+'yes/'+i) for i in os.listdir(folder+'yes')]\n",
        "Y = [str(folder+'no/'+i) for i in os.listdir(folder+'no')]"
      ],
      "metadata": {
        "id": "yO2YCh9cIRjJ"
      },
      "execution_count": null,
      "outputs": []
    },
    {
      "cell_type": "code",
      "source": [
        "len(X), len(Y)"
      ],
      "metadata": {
        "colab": {
          "base_uri": "https://localhost:8080/"
        },
        "id": "A_BEa-OdxPza",
        "outputId": "2c133124-560d-4eba-93d5-190b35485ea2"
      },
      "execution_count": null,
      "outputs": [
        {
          "output_type": "execute_result",
          "data": {
            "text/plain": [
              "(155, 98)"
            ]
          },
          "metadata": {},
          "execution_count": 3
        }
      ]
    },
    {
      "cell_type": "code",
      "source": [
        "# test X, Y\n",
        "X[:5], Y[:5]"
      ],
      "metadata": {
        "colab": {
          "base_uri": "https://localhost:8080/"
        },
        "id": "u2IooAslXLgr",
        "outputId": "aa0daa17-9877-4aa4-926f-a760b07de6a2"
      },
      "execution_count": null,
      "outputs": [
        {
          "output_type": "execute_result",
          "data": {
            "text/plain": [
              "(['/content/drive/MyDrive/influence of machine learning in healthcare/brain_tumor_dataset/yes/Y31.jpg',\n",
              "  '/content/drive/MyDrive/influence of machine learning in healthcare/brain_tumor_dataset/yes/Y51.jpg',\n",
              "  '/content/drive/MyDrive/influence of machine learning in healthcare/brain_tumor_dataset/yes/Y184.JPG',\n",
              "  '/content/drive/MyDrive/influence of machine learning in healthcare/brain_tumor_dataset/yes/Y180.jpg',\n",
              "  '/content/drive/MyDrive/influence of machine learning in healthcare/brain_tumor_dataset/yes/Y181.jpg'],\n",
              " ['/content/drive/MyDrive/influence of machine learning in healthcare/brain_tumor_dataset/no/10 no.jpg',\n",
              "  '/content/drive/MyDrive/influence of machine learning in healthcare/brain_tumor_dataset/no/11 no.jpg',\n",
              "  '/content/drive/MyDrive/influence of machine learning in healthcare/brain_tumor_dataset/no/1 no.jpeg',\n",
              "  '/content/drive/MyDrive/influence of machine learning in healthcare/brain_tumor_dataset/no/N20.JPG',\n",
              "  '/content/drive/MyDrive/influence of machine learning in healthcare/brain_tumor_dataset/no/15 no.jpg'])"
            ]
          },
          "metadata": {},
          "execution_count": 4
        }
      ]
    },
    {
      "cell_type": "code",
      "source": [
        "# Image standard size setting up\n",
        "IMAGE_SIZE = 224\n",
        "# Grand Function to carry out all the preprocessing methods on images using different tensorflow methods and classes\n",
        "def preprocessing(image_file) :\n",
        "  '''\n",
        "  The function takes image file path as input all perform some preprocessing on images like :\n",
        "  1. Input image using file_path.\n",
        "  2. Converts image into tensors.\n",
        "  3. Normalize the tensors from 1-255 to 0-1.\n",
        "  4. Resize the image into a standard and common size which is 224*224.\n",
        "  5. Return processed image.\n",
        "  '''\n",
        "  # Step 1: access image using file path\n",
        "  image = tf.io.read_file(image_file)\n",
        "  # Step 2: Converting numpy from of image into tensors with 3 channels\n",
        "  image = tf.image.decode_jpeg(image, channels = 3)\n",
        "  # Step 3: Normalizing the image pixel values.\n",
        "  image = tf.image.convert_image_dtype(image, tf.float32)\n",
        "  # Step 4: Resizing all images into a standart shape\n",
        "  image = tf.image.resize(image, size=[IMAGE_SIZE, IMAGE_SIZE])\n",
        "  \n",
        "  # Return image\n",
        "  return image"
      ],
      "metadata": {
        "id": "yQox6tf3Hm_a"
      },
      "execution_count": null,
      "outputs": []
    },
    {
      "cell_type": "code",
      "source": [
        "# pipeline steps\n",
        "batch_size = 32\n",
        "def create_batchs(X):\n",
        "  data = tf.data.Dataset.from_tensor_slices(tf.constant(X))\n",
        "  data = data.map(preprocessing).batch(batch_size)\n",
        "  return data"
      ],
      "metadata": {
        "id": "e_L2mBiMF3m5"
      },
      "execution_count": null,
      "outputs": []
    },
    {
      "cell_type": "code",
      "source": [
        "X_e = tf.random.shuffle(X)\n",
        "Y_e = tf.random.shuffle(Y)\n",
        "\n",
        "X_train = X[35:]\n",
        "Y_train = Y[20:]\n",
        "\n",
        "X_test = X[:35]\n",
        "Y_test = Y[:20]\n",
        "\n",
        "X_e_train = X_e[35:]\n",
        "Y_e_train = Y_e[20:]"
      ],
      "metadata": {
        "id": "R_2afOLkeBxG"
      },
      "execution_count": null,
      "outputs": []
    },
    {
      "cell_type": "code",
      "source": [
        "X_train[0]"
      ],
      "metadata": {
        "colab": {
          "base_uri": "https://localhost:8080/",
          "height": 36
        },
        "id": "0FIOeYSIh44T",
        "outputId": "0834d96b-02f1-4ddf-b109-6b41c0fdb36e"
      },
      "execution_count": null,
      "outputs": [
        {
          "output_type": "execute_result",
          "data": {
            "text/plain": [
              "'/content/drive/MyDrive/influence of machine learning in healthcare/brain_tumor_dataset/yes/Y193.JPG'"
            ],
            "application/vnd.google.colaboratory.intrinsic+json": {
              "type": "string"
            }
          },
          "metadata": {},
          "execution_count": 8
        }
      ]
    },
    {
      "cell_type": "code",
      "source": [
        "X_train_data = create_batchs(X_train)\n",
        "Y_train_data = create_batchs(Y_train)\n",
        "\n",
        "X_test_data = create_batchs(X_test)\n",
        "Y_test_data = create_batchs(Y_test)\n",
        "\n",
        "X_e_train_data = create_batchs(X_e_train)\n",
        "Y_e_train_data = create_batchs(Y_e_train)"
      ],
      "metadata": {
        "id": "cKpzahofJF0t"
      },
      "execution_count": null,
      "outputs": []
    },
    {
      "cell_type": "code",
      "source": [
        "print(X_train_data)"
      ],
      "metadata": {
        "colab": {
          "base_uri": "https://localhost:8080/"
        },
        "id": "g2aYSiXccuI0",
        "outputId": "2c9f4dd0-ca27-4c69-999c-16952d0a8b04"
      },
      "execution_count": null,
      "outputs": [
        {
          "output_type": "stream",
          "name": "stdout",
          "text": [
            "<BatchDataset element_spec=TensorSpec(shape=(None, 224, 224, 3), dtype=tf.float32, name=None)>\n"
          ]
        }
      ]
    },
    {
      "cell_type": "code",
      "execution_count": null,
      "metadata": {
        "id": "SN9dq7Q6uT5l"
      },
      "outputs": [],
      "source": [
        "# encoder and decoder networks\n",
        "n_filters = 12\n",
        "latent_dim = 100\n",
        "\n",
        "\n",
        "def encoder(n_outputs=1):\n",
        "  Conv2D = functools.partial(tf.keras.layers.Conv2D, padding='same', activation='relu')\n",
        "  BatchNormalization = tf.keras.layers.BatchNormalization\n",
        "  Flatten = tf.keras.layers.Flatten\n",
        "  Dense = functools.partial(tf.keras.layers.Dense, activation='relu')\n",
        "\n",
        "  model = tf.keras.Sequential([\n",
        "    \n",
        "    Conv2D(filters=1*n_filters, kernel_size=5,  strides=2),\n",
        "    BatchNormalization(),\n",
        "    \n",
        "    Conv2D(filters=2*n_filters, kernel_size=5,  strides=2),\n",
        "    BatchNormalization(),\n",
        "\n",
        "    Conv2D(filters=4*n_filters, kernel_size=3,  strides=2),\n",
        "    BatchNormalization(),\n",
        "\n",
        "    Conv2D(filters=6*n_filters, kernel_size=3,  strides=2),\n",
        "    BatchNormalization(),\n",
        "\n",
        "    Flatten(),\n",
        "    Dense(512),\n",
        "    Dense(n_outputs, activation=None),\n",
        "  ])\n",
        "  return model\n",
        "\n",
        "def decoder():\n",
        "  Conv2DTranspose = functools.partial(tf.keras.layers.Conv2DTranspose, padding='same', activation='relu')\n",
        "  BatchNormalization = tf.keras.layers.BatchNormalization\n",
        "  Flatten = tf.keras.layers.Flatten\n",
        "  Dense = functools.partial(tf.keras.layers.Dense, activation='relu')\n",
        "  Reshape = tf.keras.layers.Reshape\n",
        "\n",
        "  model = tf.keras.Sequential([\n",
        "    # Transform to pre-convolutional generation\n",
        "    Dense(units=14*14*6*n_filters),  # 4x4 feature maps (with 6N occurances)\n",
        "    Reshape(target_shape=(14, 14, 6*n_filters)),\n",
        "\n",
        "    # Upscaling convolutions (inverse of encoder)\n",
        "    Conv2DTranspose(filters=4*n_filters, kernel_size=3,  strides=2),\n",
        "    Conv2DTranspose(filters=2*n_filters, kernel_size=3,  strides=2),\n",
        "    Conv2DTranspose(filters=1*n_filters, kernel_size=5,  strides=2),\n",
        "    Conv2DTranspose(filters=3, kernel_size=5,  strides=2),\n",
        "  ])\n",
        "\n",
        "  return model\n",
        "\n",
        "def vae_loss_function(x, x_recon, mu, logsigma, kl_weight=0.0005):\n",
        "  latent_loss = tf.reduce_sum((tf.math.exp(logsigma))+((mu**2)-1-logsigma), axis=0)\n",
        "\n",
        "  reconstruction_loss = tf.math.reduce_mean(tf.math.abs(x - x_recon))\n",
        "\n",
        "  vae_loss = (kl_weight*latent_loss)+reconstruction_loss\n",
        "  \n",
        "  return vae_loss\n",
        "\n",
        "def sampling(z_mean, z_logsigma):\n",
        "  batch, latent_dim = z_mean.shape\n",
        "  epsilon = tf.random.normal(shape=(batch, latent_dim))\n",
        "  z = z_mean + (tf.math.exp(z_logsigma)*epsilon)\n",
        "  return z\n",
        "\n",
        "def contrastive_loss(image, postive_ex, negative_ex):\n",
        "  cosine_loss = tf.keras.losses.CosineSimilarity(axis=1)\n",
        "  positive_loss = 1 - cosine_loss(image, postive_ex)\n",
        "  negative_loss = cosine_loss(image, negative_ex)\n",
        "  loss = tf.math.exp(positive_loss + negative_loss)\n",
        "  return loss"
      ]
    },
    {
      "cell_type": "code",
      "source": [
        "class VAE(tf.keras.Model):\n",
        "  def __init__(self, latent_dim):\n",
        "    super(VAE, self).__init__()\n",
        "    self.latent_dim = latent_dim\n",
        "\n",
        "    num_encoder_dims = 2*self.latent_dim # +1\n",
        "\n",
        "    self.encoder = encoder(num_encoder_dims)\n",
        "    self.decoder = decoder()\n",
        "\n",
        "  def encode(self, x):\n",
        "    encoder_output = self.encoder(x)\n",
        "\n",
        "    z_mean = encoder_output[:, 0:self.latent_dim] \n",
        "    z_logsigma = encoder_output[:, self.latent_dim:]\n",
        "\n",
        "    return z_mean, z_logsigma\n",
        "\n",
        "  def reparameterize(self, z_mean, z_logsigma):\n",
        "    z = sampling(z_mean, z_logsigma)\n",
        "    \n",
        "    return z\n",
        "\n",
        "  def decode(self, z):\n",
        "    reconstruction = self.decoder(z)\n",
        "    return reconstruction\n",
        "\n",
        "  def call(self, x): \n",
        "    \n",
        "    z_mean, z_logsigma = self.encode(x)\n",
        "    \n",
        "    z =  self.reparameterize(z_mean, z_logsigma)\n",
        "    \n",
        "    recon = self.decode(z)\n",
        "    \n",
        "    return z_mean, z_logsigma, recon\n",
        "\n",
        "vae = VAE(latent_dim)"
      ],
      "metadata": {
        "id": "kiiE4HNu80YK"
      },
      "execution_count": null,
      "outputs": []
    },
    {
      "cell_type": "code",
      "source": [
        "batch_size = 64\n",
        "learning_rate = 1e-4\n",
        "latent_dim = 512\n",
        "\n",
        "num_epochs = 20\n",
        "\n",
        "vae = VAE(latent_dim)\n",
        "optimizer_vae = tf.keras.optimizers.Adam(learning_rate)\n",
        "\n",
        "@tf.function\n",
        "def vae_training_step(x, y, z):\n",
        "\n",
        "  with tf.GradientTape() as tape:\n",
        "    \n",
        "    x_mean, x_logsigma, x_recon = vae.call(x)\n",
        "    y_mean, y_logsigma, y_recon = vae.call(y)\n",
        "    z_mean, z_logsigma, z_recon = vae.call(z)\n",
        "\n",
        "    loss_x =  vae_loss_function(x, x_recon, x_mean, x_logsigma)\n",
        "    loss_y =  vae_loss_function(y, y_recon, y_mean, y_logsigma)\n",
        "    loss_z =  vae_loss_function(z, z_recon, z_mean, z_logsigma)\n",
        "    loss = loss_x + loss_y + loss_z + contrastive_loss(x_recon, y_recon, z_recon)\n",
        "\n",
        "  grads = tape.gradient(loss, vae.trainable_variables)\n",
        "\n",
        "  optimizer_vae.apply_gradients(zip(grads, vae.trainable_variables))\n",
        "  return loss\n",
        "\n",
        "loss_plot = []\n",
        "\n",
        "for i in range(num_epochs):\n",
        "  loss = 0\n",
        "  for j in range(len(X_train)//batch_size): \n",
        "    # X as main example\n",
        "    x = next(X_train_data.as_numpy_iterator())\n",
        "    y = next(X_e_train_data.as_numpy_iterator())\n",
        "    z = next(Y_train_data.as_numpy_iterator())\n",
        "    \n",
        "    loss += vae_training_step(x, y, z)\n",
        "    \n",
        "    # Y as main example\n",
        "    x = next(Y_train_data.as_numpy_iterator())\n",
        "    y = next(Y_e_train_data.as_numpy_iterator())\n",
        "    z = next(X_train_data.as_numpy_iterator())\n",
        "    loss += vae_training_step(x, y, z)\n",
        "\n",
        "  loss_plot.append(loss)\n",
        "plt.plot(loss_plot)\n",
        "plt.savefig(folder+'learning_curve.png')"
      ],
      "metadata": {
        "id": "tQXgYGv9-RVR",
        "colab": {
          "base_uri": "https://localhost:8080/",
          "height": 265
        },
        "outputId": "27e03c7a-23df-445c-babb-cf68898a2ca9"
      },
      "execution_count": null,
      "outputs": [
        {
          "output_type": "display_data",
          "data": {
            "text/plain": [
              "<Figure size 432x288 with 1 Axes>"
            ],
            "image/png": "[encoded data removed]"
          },
          "metadata": {
            "needs_background": "light"
          }
        }
      ]
    },
    {
      "cell_type": "code",
      "source": [
        "X_samples_train = []\n",
        "y_train = []\n",
        "\n",
        "for i in range(len(X_train)):\n",
        "  x = next(X_train_data.as_numpy_iterator())\n",
        "  z_mean, z_sigma = vae.encode(x)\n",
        "  z = vae.reparameterize(z_mean, z_sigma)\n",
        "  z = tf.reduce_mean(z).numpy()\n",
        "  X_samples_train.append(z)\n",
        "  y_train.append(1)\n",
        "\n",
        "for i in range(len(Y_train)):\n",
        "  x = next(Y_train_data.as_numpy_iterator())\n",
        "  z_mean, z_sigma = vae.encode(x)\n",
        "  z = vae.reparameterize(z_mean, z_sigma)\n",
        "  z = tf.reduce_mean(z).numpy()\n",
        "  X_samples_train.append(z)\n",
        "  y_train.append(0)\n",
        "  \n",
        "X_samples_test = []\n",
        "y_test = []\n",
        "\n",
        "for i in range(len(X_test)):\n",
        "  x = next(X_test_data.as_numpy_iterator())\n",
        "  z_mean, z_sigma = vae.encode(x)\n",
        "  z = vae.reparameterize(z_mean, z_sigma)\n",
        "  z = tf.reduce_mean(z).numpy()\n",
        "  X_samples_test.append(z)\n",
        "  y_test.append(1)\n",
        "\n",
        "for i in range(len(Y_test)):\n",
        "  x = next(Y_test_data.as_numpy_iterator())\n",
        "  z_mean, z_sigma = vae.encode(x)\n",
        "  z = vae.reparameterize(z_mean, z_sigma)\n",
        "  z = tf.reduce_mean(z).numpy()\n",
        "  X_samples_test.append(z)\n",
        "  y_test.append(0)"
      ],
      "metadata": {
        "id": "DHZQ4prFsmE6"
      },
      "execution_count": null,
      "outputs": []
    },
    {
      "cell_type": "code",
      "source": [
        "len(y_test)"
      ],
      "metadata": {
        "colab": {
          "base_uri": "https://localhost:8080/"
        },
        "id": "CCRh8xVnznik",
        "outputId": "c374b27a-70fb-4aa9-f78f-c7a60da0174f"
      },
      "execution_count": null,
      "outputs": [
        {
          "output_type": "execute_result",
          "data": {
            "text/plain": [
              "55"
            ]
          },
          "metadata": {},
          "execution_count": 15
        }
      ]
    },
    {
      "cell_type": "code",
      "source": [
        "y_test[:5], y_test[-5:-1]"
      ],
      "metadata": {
        "colab": {
          "base_uri": "https://localhost:8080/"
        },
        "id": "nDgqT_17wFQR",
        "outputId": "fc102b15-2015-4095-c5f1-8c584be49967"
      },
      "execution_count": null,
      "outputs": [
        {
          "output_type": "execute_result",
          "data": {
            "text/plain": [
              "([1, 1, 1, 1, 1], [0, 0, 0, 0])"
            ]
          },
          "metadata": {},
          "execution_count": 16
        }
      ]
    },
    {
      "cell_type": "code",
      "source": [
        "import sklearn\n",
        "from sklearn.ensemble import RandomForestClassifier\n",
        "from sklearn.metrics import accuracy_score\n",
        "lr = RandomForestClassifier()\n",
        "\n",
        "df_train = pd.DataFrame(list(zip(X_samples_train, y_train)), columns=[\"z\", \"y\"])\n",
        "df_test = pd.DataFrame(list(zip(X_samples_test, y_test)), columns=[\"z\", \"y\"])\n",
        "\n",
        "df_train = df_train.sample(frac=1)\n",
        "df_test = df_test.sample(frac=1)\n",
        "lr.fit(df_train['z'].values.reshape(-1, 1), df_train['y'].values.reshape(-1, 1))\n",
        "y_pred = lr.predict(df_test['z'].values.reshape(-1, 1))"
      ],
      "metadata": {
        "colab": {
          "base_uri": "https://localhost:8080/"
        },
        "id": "pD9kxWZ5qVzC",
        "outputId": "6de414c3-14f2-447d-c3b7-c68e230f973a"
      },
      "execution_count": null,
      "outputs": [
        {
          "output_type": "stream",
          "name": "stderr",
          "text": [
            "/usr/local/lib/python3.7/dist-packages/ipykernel_launcher.py:11: DataConversionWarning: A column-vector y was passed when a 1d array was expected. Please change the shape of y to (n_samples,), for example using ravel().\n",
            "  # This is added back by InteractiveShellApp.init_path()\n"
          ]
        }
      ]
    },
    {
      "cell_type": "code",
      "source": [
        "accuracy_score(y_pred, df_test['y'].values)"
      ],
      "metadata": {
        "colab": {
          "base_uri": "https://localhost:8080/"
        },
        "id": "6MiglwE6Z-fl",
        "outputId": "14601152-7cdf-4bc4-ebad-6417c8daa723"
      },
      "execution_count": null,
      "outputs": [
        {
          "output_type": "execute_result",
          "data": {
            "text/plain": [
              "0.6181818181818182"
            ]
          },
          "metadata": {},
          "execution_count": 50
        }
      ]
    },
    {
      "cell_type": "code",
      "source": [
        "y_pred"
      ],
      "metadata": {
        "colab": {
          "base_uri": "https://localhost:8080/"
        },
        "id": "j7V8-RFpu_lA",
        "outputId": "b2819150-c8f7-4fbd-9a07-fbd46aec815a"
      },
      "execution_count": null,
      "outputs": [
        {
          "output_type": "execute_result",
          "data": {
            "text/plain": [
              "array([1, 0, 0, 0, 1, 0, 1, 0, 1, 0, 1, 1, 1, 1, 1, 1, 0, 0, 1, 0, 1, 1,\n",
              "       1, 1, 1, 0, 1, 1, 0, 1, 1, 0, 0, 0, 0, 0, 0, 1, 0, 0, 0, 0, 1, 1,\n",
              "       1, 1, 1, 1, 1, 1, 0, 1, 0, 1, 1])"
            ]
          },
          "metadata": {},
          "execution_count": 56
        }
      ]
    }
  ]
}